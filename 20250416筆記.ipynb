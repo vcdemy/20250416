{
  "nbformat": 4,
  "nbformat_minor": 0,
  "metadata": {
    "colab": {
      "provenance": [],
      "authorship_tag": "ABX9TyOWjO9w1UgFPw/4Xcn41h8r",
      "include_colab_link": true
    },
    "kernelspec": {
      "name": "python3",
      "display_name": "Python 3"
    },
    "language_info": {
      "name": "python"
    }
  },
  "cells": [
    {
      "cell_type": "markdown",
      "metadata": {
        "id": "view-in-github",
        "colab_type": "text"
      },
      "source": [
        "<a href=\"https://colab.research.google.com/github/vcdemy/20250416/blob/main/20250416%E7%AD%86%E8%A8%98.ipynb\" target=\"_parent\"><img src=\"https://colab.research.google.com/assets/colab-badge.svg\" alt=\"Open In Colab\"/></a>"
      ]
    },
    {
      "cell_type": "markdown",
      "source": [
        "# 20250416筆記"
      ],
      "metadata": {
        "id": "dCxP7WbNU9sa"
      }
    },
    {
      "cell_type": "markdown",
      "source": [
        "## 字串(str)格式化"
      ],
      "metadata": {
        "id": "SnGusZ-hVBpY"
      }
    },
    {
      "cell_type": "code",
      "execution_count": 1,
      "metadata": {
        "colab": {
          "base_uri": "https://localhost:8080/"
        },
        "id": "GOqWGgoIUnZQ",
        "outputId": "a6089282-6985-46ea-b47c-3a1ae127c3c8"
      },
      "outputs": [
        {
          "output_type": "stream",
          "name": "stdout",
          "text": [
            "x=1, y=3.14159, z=True\n"
          ]
        }
      ],
      "source": [
        "x = 1\n",
        "y = 3.14159\n",
        "z = True"
      ]
    },
    {
      "cell_type": "markdown",
      "source": [
        "### python2的方式"
      ],
      "metadata": {
        "id": "ukYwWeOBV6tf"
      }
    },
    {
      "cell_type": "code",
      "source": [
        "print('x=%s, y=%s, z=%s' % (x, y, z))"
      ],
      "metadata": {
        "colab": {
          "base_uri": "https://localhost:8080/"
        },
        "id": "9n_rsl0iWK5T",
        "outputId": "58253662-6a5f-463d-df33-0e8be32bd361"
      },
      "execution_count": 5,
      "outputs": [
        {
          "output_type": "stream",
          "name": "stdout",
          "text": [
            "x=1, y=3.14159, z=True\n"
          ]
        }
      ]
    },
    {
      "cell_type": "markdown",
      "source": [
        "### Python3的方式"
      ],
      "metadata": {
        "id": "Mz-ivg7CV_vP"
      }
    },
    {
      "cell_type": "code",
      "source": [
        "print('x={0}, y={1}, z={2}'.format(x, y, z))"
      ],
      "metadata": {
        "colab": {
          "base_uri": "https://localhost:8080/"
        },
        "id": "vLzWX3hsWs7U",
        "outputId": "8f6ba70e-277b-47c1-987c-2dd92b6c6635"
      },
      "execution_count": 6,
      "outputs": [
        {
          "output_type": "stream",
          "name": "stdout",
          "text": [
            "x=1, y=3.14159, z=True\n"
          ]
        }
      ]
    },
    {
      "cell_type": "markdown",
      "source": [
        "### f-string"
      ],
      "metadata": {
        "id": "hwGKwHSPWCNs"
      }
    },
    {
      "cell_type": "code",
      "source": [
        "print(f'x={x}, y={y}, z={z}') # f-string"
      ],
      "metadata": {
        "colab": {
          "base_uri": "https://localhost:8080/"
        },
        "id": "nhaYcbprVSaV",
        "outputId": "33b5f187-0932-42d2-e7ab-a9350ae41aa1"
      },
      "execution_count": 4,
      "outputs": [
        {
          "output_type": "stream",
          "name": "stdout",
          "text": [
            "x=1, y=3.14159, z=True\n"
          ]
        }
      ]
    },
    {
      "cell_type": "code",
      "source": [
        "print('x={x}, y={y}, z={z}')"
      ],
      "metadata": {
        "colab": {
          "base_uri": "https://localhost:8080/"
        },
        "id": "QOatzcq_XUZQ",
        "outputId": "215c35db-f8ae-4aea-d158-85d8533f4d80"
      },
      "execution_count": 7,
      "outputs": [
        {
          "output_type": "stream",
          "name": "stdout",
          "text": [
            "x={x}, y={y}, z={z}\n"
          ]
        }
      ]
    },
    {
      "cell_type": "markdown",
      "source": [
        "### f-string 應用練習"
      ],
      "metadata": {
        "id": "9idNVboZYE8m"
      }
    },
    {
      "cell_type": "code",
      "source": [
        "import requests\n",
        "\n",
        "def lookup(word):\n",
        "  try:\n",
        "    data = requests.get(f\"https://www.moedict.tw/uni/{word}\").json()\n",
        "    return data['heteronyms'][0]['definitions'][0]['def']\n",
        "  except Exception as e:\n",
        "    print(f\"發生錯誤，錯誤原因是{e}\")\n",
        "    return e"
      ],
      "metadata": {
        "id": "Sid6a5yKVofU"
      },
      "execution_count": 8,
      "outputs": []
    },
    {
      "cell_type": "code",
      "source": [
        "lookup('老師')"
      ],
      "metadata": {
        "colab": {
          "base_uri": "https://localhost:8080/",
          "height": 35
        },
        "id": "u6YFkNUDYNvU",
        "outputId": "797b4630-8519-490a-c770-f6da22222ce8"
      },
      "execution_count": 9,
      "outputs": [
        {
          "output_type": "execute_result",
          "data": {
            "text/plain": [
              "'對傳授道業、學問或技藝者的尊稱。'"
            ],
            "application/vnd.google.colaboratory.intrinsic+json": {
              "type": "string"
            }
          },
          "metadata": {},
          "execution_count": 9
        }
      ]
    },
    {
      "cell_type": "markdown",
      "source": [
        "## 爬蟲簡介"
      ],
      "metadata": {
        "id": "ls2gkmgHeLKj"
      }
    },
    {
      "cell_type": "markdown",
      "source": [
        "* 抓取資料 (requests)\n",
        "* 剖析資料 (BeautifulSoup)"
      ],
      "metadata": {
        "id": "XFajgXQYeNx_"
      }
    },
    {
      "cell_type": "markdown",
      "source": [
        "### 抓取資料"
      ],
      "metadata": {
        "id": "b5-0UiwXfdD4"
      }
    },
    {
      "cell_type": "code",
      "source": [
        "import requests"
      ],
      "metadata": {
        "id": "aSvraO3kYPU7"
      },
      "execution_count": 10,
      "outputs": []
    },
    {
      "cell_type": "code",
      "source": [
        "r = requests.get(\"https://www.vcdemy.com/web/html_only.html\")"
      ],
      "metadata": {
        "id": "pSBrOg_yebm1"
      },
      "execution_count": 11,
      "outputs": []
    },
    {
      "cell_type": "code",
      "source": [
        "print(r.text)"
      ],
      "metadata": {
        "colab": {
          "base_uri": "https://localhost:8080/"
        },
        "id": "5AmaTzQRengk",
        "outputId": "0262bba7-479a-468c-eb30-be58784215d1"
      },
      "execution_count": 12,
      "outputs": [
        {
          "output_type": "stream",
          "name": "stdout",
          "text": [
            "<!DOCTYPE html>\n",
            "<html>\n",
            "<head>\n",
            "    <title>HTML範例</title>\n",
            "</head>\n",
            "<body>\n",
            "\n",
            "<h1>哈囉！HTML！</h1>\n",
            "\n",
            "<img src=\"ninja.jpg\" />\n",
            "\n",
            "</body>\n",
            "</html>\n"
          ]
        }
      ]
    },
    {
      "cell_type": "code",
      "source": [
        "r.request.headers"
      ],
      "metadata": {
        "colab": {
          "base_uri": "https://localhost:8080/"
        },
        "id": "41cK_-XNeq7k",
        "outputId": "c3950cd4-dfaf-46eb-fb66-29dde37fa0ae"
      },
      "execution_count": 13,
      "outputs": [
        {
          "output_type": "execute_result",
          "data": {
            "text/plain": [
              "{'User-Agent': 'python-requests/2.32.3', 'Accept-Encoding': 'gzip, deflate, zstd', 'Accept': '*/*', 'Connection': 'keep-alive'}"
            ]
          },
          "metadata": {},
          "execution_count": 13
        }
      ]
    },
    {
      "cell_type": "markdown",
      "source": [
        "### 剖析資料"
      ],
      "metadata": {
        "id": "vAW4yQ81ht4a"
      }
    },
    {
      "cell_type": "code",
      "source": [
        "from bs4 import BeautifulSoup"
      ],
      "metadata": {
        "id": "PYmT6sFCftUG"
      },
      "execution_count": 14,
      "outputs": []
    },
    {
      "cell_type": "code",
      "source": [
        "soup = BeautifulSoup(r.text)"
      ],
      "metadata": {
        "id": "Pi3Y-ZQNh-QI"
      },
      "execution_count": 15,
      "outputs": []
    },
    {
      "cell_type": "code",
      "source": [
        "soup.title"
      ],
      "metadata": {
        "colab": {
          "base_uri": "https://localhost:8080/"
        },
        "id": "Ey4GK36QiPxt",
        "outputId": "2e360226-383b-403c-974d-c88e48af2598"
      },
      "execution_count": 16,
      "outputs": [
        {
          "output_type": "execute_result",
          "data": {
            "text/plain": [
              "<title>HTML範例</title>"
            ]
          },
          "metadata": {},
          "execution_count": 16
        }
      ]
    },
    {
      "cell_type": "code",
      "source": [
        "r.text"
      ],
      "metadata": {
        "colab": {
          "base_uri": "https://localhost:8080/",
          "height": 52
        },
        "id": "fh8wpG46iUFG",
        "outputId": "6b1ff239-f22e-4097-901f-7c0db87a650b"
      },
      "execution_count": 17,
      "outputs": [
        {
          "output_type": "execute_result",
          "data": {
            "text/plain": [
              "'<!DOCTYPE html>\\n<html>\\n<head>\\n    <title>HTML範例</title>\\n</head>\\n<body>\\n\\n<h1>哈囉！HTML！</h1>\\n\\n<img src=\"ninja.jpg\" />\\n\\n</body>\\n</html>'"
            ],
            "application/vnd.google.colaboratory.intrinsic+json": {
              "type": "string"
            }
          },
          "metadata": {},
          "execution_count": 17
        }
      ]
    },
    {
      "cell_type": "code",
      "source": [
        "r.text[30:50]"
      ],
      "metadata": {
        "colab": {
          "base_uri": "https://localhost:8080/",
          "height": 35
        },
        "id": "W8WdX-EBiauH",
        "outputId": "26f0a0aa-14be-4d43-d124-7d5e09533b3a"
      },
      "execution_count": 18,
      "outputs": [
        {
          "output_type": "execute_result",
          "data": {
            "text/plain": [
              "'    <title>HTML範例</t'"
            ],
            "application/vnd.google.colaboratory.intrinsic+json": {
              "type": "string"
            }
          },
          "metadata": {},
          "execution_count": 18
        }
      ]
    },
    {
      "cell_type": "code",
      "source": [
        "soup.title.text"
      ],
      "metadata": {
        "colab": {
          "base_uri": "https://localhost:8080/",
          "height": 35
        },
        "id": "AvSxoEsmik69",
        "outputId": "4aca0dc4-ee68-497b-c747-ec8c786ca094"
      },
      "execution_count": 20,
      "outputs": [
        {
          "output_type": "execute_result",
          "data": {
            "text/plain": [
              "'HTML範例'"
            ],
            "application/vnd.google.colaboratory.intrinsic+json": {
              "type": "string"
            }
          },
          "metadata": {},
          "execution_count": 20
        }
      ]
    },
    {
      "cell_type": "code",
      "source": [
        "soup.img"
      ],
      "metadata": {
        "colab": {
          "base_uri": "https://localhost:8080/"
        },
        "id": "9LCidcl1iudX",
        "outputId": "b5880157-02cf-4176-9846-791e78b52a13"
      },
      "execution_count": 21,
      "outputs": [
        {
          "output_type": "execute_result",
          "data": {
            "text/plain": [
              "<img src=\"ninja.jpg\"/>"
            ]
          },
          "metadata": {},
          "execution_count": 21
        }
      ]
    },
    {
      "cell_type": "code",
      "source": [
        "soup.img.get('src')"
      ],
      "metadata": {
        "colab": {
          "base_uri": "https://localhost:8080/",
          "height": 35
        },
        "id": "mMCpa9eYjFDX",
        "outputId": "033c88a8-7943-477a-c6d7-e20613fb97c3"
      },
      "execution_count": 22,
      "outputs": [
        {
          "output_type": "execute_result",
          "data": {
            "text/plain": [
              "'ninja.jpg'"
            ],
            "application/vnd.google.colaboratory.intrinsic+json": {
              "type": "string"
            }
          },
          "metadata": {},
          "execution_count": 22
        }
      ]
    },
    {
      "cell_type": "markdown",
      "source": [
        "### 爬蟲應用練習 01"
      ],
      "metadata": {
        "id": "sM4wToqBjZHa"
      }
    },
    {
      "cell_type": "code",
      "source": [
        "r = requests.get('https://www.vcdemy.com/web/')"
      ],
      "metadata": {
        "id": "7aceyn1ZjJHN"
      },
      "execution_count": 23,
      "outputs": []
    },
    {
      "cell_type": "code",
      "source": [
        "soup = BeautifulSoup(r.text)"
      ],
      "metadata": {
        "id": "TqK-IlxujmmO"
      },
      "execution_count": 25,
      "outputs": []
    },
    {
      "cell_type": "code",
      "source": [
        "soup.select('a')"
      ],
      "metadata": {
        "colab": {
          "base_uri": "https://localhost:8080/"
        },
        "id": "Jle7Msk0j4L2",
        "outputId": "6567c446-7f30-4c23-edd8-9a6a8162720b"
      },
      "execution_count": 26,
      "outputs": [
        {
          "output_type": "execute_result",
          "data": {
            "text/plain": [
              "[<a href=\"html_only.html\">HTML 範例</a>,\n",
              " <a href=\"html_css.html\">HTML + CSS 範例</a>,\n",
              " <a href=\"html_css_javascript.html\">HTML + CSS + Javascript 範例</a>,\n",
              " <a href=\"example01.html\">example01.html (爬蟲抓取用範例)</a>,\n",
              " <a href=\"example02.html\">example02.html (爬蟲抓取用範例)</a>,\n",
              " <a href=\"example03.html\">example03.html (爬蟲抓取用範例)</a>,\n",
              " <a href=\"example04.html\">example04.html (爬蟲抓取用範例)</a>,\n",
              " <a href=\"example05.html\">example05.html (爬蟲抓取用範例)</a>,\n",
              " <a href=\"spy.html\">Classic HTML 範例 (爬蟲抓取用範例)</a>,\n",
              " <a href=\"spy_ajax.html\">Ajax 範例 (爬蟲抓取用範例)</a>,\n",
              " <a href=\"form_get.html\">HTTP GET 方法說明</a>,\n",
              " <a href=\"form_post.html\">HTTP POST 方法說明</a>]"
            ]
          },
          "metadata": {},
          "execution_count": 26
        }
      ]
    },
    {
      "cell_type": "code",
      "source": [
        "soup.select('a')[0].text"
      ],
      "metadata": {
        "colab": {
          "base_uri": "https://localhost:8080/",
          "height": 35
        },
        "id": "lrujlgddk_fI",
        "outputId": "7ed8058f-f862-48d6-a261-f2faeb5aeb93"
      },
      "execution_count": 32,
      "outputs": [
        {
          "output_type": "execute_result",
          "data": {
            "text/plain": [
              "'HTML 範例'"
            ],
            "application/vnd.google.colaboratory.intrinsic+json": {
              "type": "string"
            }
          },
          "metadata": {},
          "execution_count": 32
        }
      ]
    },
    {
      "cell_type": "code",
      "source": [
        "results = soup.select('a')"
      ],
      "metadata": {
        "id": "xcDhevAzkH2F"
      },
      "execution_count": 27,
      "outputs": []
    },
    {
      "cell_type": "code",
      "source": [
        "for result in results:\n",
        "  print(result.text)"
      ],
      "metadata": {
        "colab": {
          "base_uri": "https://localhost:8080/"
        },
        "id": "SOvgrhE1kWqP",
        "outputId": "64af747b-25af-4cbb-9a48-2ed1887ff6c5"
      },
      "execution_count": 28,
      "outputs": [
        {
          "output_type": "stream",
          "name": "stdout",
          "text": [
            "HTML 範例\n",
            "HTML + CSS 範例\n",
            "HTML + CSS + Javascript 範例\n",
            "example01.html (爬蟲抓取用範例)\n",
            "example02.html (爬蟲抓取用範例)\n",
            "example03.html (爬蟲抓取用範例)\n",
            "example04.html (爬蟲抓取用範例)\n",
            "example05.html (爬蟲抓取用範例)\n",
            "Classic HTML 範例 (爬蟲抓取用範例)\n",
            "Ajax 範例 (爬蟲抓取用範例)\n",
            "HTTP GET 方法說明\n",
            "HTTP POST 方法說明\n"
          ]
        }
      ]
    },
    {
      "cell_type": "code",
      "source": [
        "len(results)"
      ],
      "metadata": {
        "colab": {
          "base_uri": "https://localhost:8080/"
        },
        "id": "H3kr3X1zlVGt",
        "outputId": "da0a5329-dead-4fea-ee16-f6f17af136f1"
      },
      "execution_count": 33,
      "outputs": [
        {
          "output_type": "execute_result",
          "data": {
            "text/plain": [
              "12"
            ]
          },
          "metadata": {},
          "execution_count": 33
        }
      ]
    },
    {
      "cell_type": "code",
      "source": [
        "total = len(results)\n",
        "for i in range(total):\n",
        "  print(results[i].text)"
      ],
      "metadata": {
        "colab": {
          "base_uri": "https://localhost:8080/"
        },
        "id": "CO8tcJJ8kZr2",
        "outputId": "f67d9724-83df-4146-8af6-dd1862641372"
      },
      "execution_count": 34,
      "outputs": [
        {
          "output_type": "stream",
          "name": "stdout",
          "text": [
            "HTML 範例\n",
            "HTML + CSS 範例\n",
            "HTML + CSS + Javascript 範例\n",
            "example01.html (爬蟲抓取用範例)\n",
            "example02.html (爬蟲抓取用範例)\n",
            "example03.html (爬蟲抓取用範例)\n",
            "example04.html (爬蟲抓取用範例)\n",
            "example05.html (爬蟲抓取用範例)\n",
            "Classic HTML 範例 (爬蟲抓取用範例)\n",
            "Ajax 範例 (爬蟲抓取用範例)\n",
            "HTTP GET 方法說明\n",
            "HTTP POST 方法說明\n"
          ]
        }
      ]
    },
    {
      "cell_type": "code",
      "source": [
        "for i in range(5):\n",
        "  print(i)"
      ],
      "metadata": {
        "colab": {
          "base_uri": "https://localhost:8080/"
        },
        "id": "NMKwE1MelgqW",
        "outputId": "5ae87119-36e7-4fcf-c314-153be5b2f77a"
      },
      "execution_count": 35,
      "outputs": [
        {
          "output_type": "stream",
          "name": "stdout",
          "text": [
            "0\n",
            "1\n",
            "2\n",
            "3\n",
            "4\n"
          ]
        }
      ]
    },
    {
      "cell_type": "markdown",
      "source": [
        "### 爬蟲應用練習 02"
      ],
      "metadata": {
        "id": "w1l3E3YRnW4E"
      }
    },
    {
      "cell_type": "code",
      "source": [
        "r = requests.get(\"https://www.vcdemy.com/web/html_only.html\")"
      ],
      "metadata": {
        "id": "pNjdN7T4l0R_"
      },
      "execution_count": 36,
      "outputs": []
    },
    {
      "cell_type": "code",
      "source": [
        "with open('test.html', 'w', encoding='utf-8') as f:\n",
        "  f.write(r.text)"
      ],
      "metadata": {
        "id": "ZLWA1HecnrcQ"
      },
      "execution_count": 37,
      "outputs": []
    },
    {
      "cell_type": "markdown",
      "source": [
        "### 爬蟲應用練習 03"
      ],
      "metadata": {
        "id": "JNnvb_2ongqb"
      }
    },
    {
      "cell_type": "code",
      "source": [
        "r = requests.get(\"https://www.vcdemy.com/web/ninja.jpg\")"
      ],
      "metadata": {
        "id": "KZMAXJOBngOr"
      },
      "execution_count": 38,
      "outputs": []
    },
    {
      "cell_type": "code",
      "source": [
        "with open('ninja.jpg', 'wb') as f:\n",
        "  f.write(r.content)"
      ],
      "metadata": {
        "id": "FixL3uxmoaYY"
      },
      "execution_count": 39,
      "outputs": []
    },
    {
      "cell_type": "code",
      "source": [
        "with open('images/ninja.jpg', 'wb') as f:\n",
        "  f.write(r.content)"
      ],
      "metadata": {
        "id": "S_k9Cx7LpSAb"
      },
      "execution_count": 41,
      "outputs": []
    },
    {
      "cell_type": "markdown",
      "source": [
        "### 爬蟲應用練習 04\n",
        "\n",
        "https://arxiv.org/pdf/2504.11456"
      ],
      "metadata": {
        "id": "P-42BKtIpNLX"
      }
    },
    {
      "cell_type": "code",
      "source": [],
      "metadata": {
        "id": "mR_rLjjnoxUf"
      },
      "execution_count": null,
      "outputs": []
    }
  ]
}